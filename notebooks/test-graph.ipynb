{
 "cells": [
  {
   "cell_type": "code",
   "execution_count": 1,
   "metadata": {},
   "outputs": [],
   "source": [
    "from datasets import load_dataset\n",
    "\n",
    "from torch_geometric.data import Data\n",
    "from torch_geometric.loader import DataLoader\n",
    "\n",
    "dataset_hf = load_dataset(\"graphs-datasets/IMDB-BINARY\")\n",
    "# For the train set (replace by valid or test as needed)\n",
    "dataset_pg_list = [Data(graph) for graph in dataset_hf[\"train\"]]\n",
    "dataset_pg = DataLoader(dataset_pg_list)"
   ]
  },
  {
   "cell_type": "code",
   "execution_count": null,
   "metadata": {},
   "outputs": [
    {
     "name": "stdout",
     "output_type": "stream",
     "text": [
      "Data(\n",
      "  x={\n",
      "    edge_index=[2],\n",
      "    y=[1],\n",
      "    num_nodes=20,\n",
      "  }\n",
      ")\n"
     ]
    },
    {
     "ename": "AttributeError",
     "evalue": "'list' object has no attribute 'edge_index'",
     "output_type": "error",
     "traceback": [
      "\u001b[0;31m---------------------------------------------------------------------------\u001b[0m",
      "\u001b[0;31mAttributeError\u001b[0m                            Traceback (most recent call last)",
      "Cell \u001b[0;32mIn[5], line 19\u001b[0m\n\u001b[1;32m     17\u001b[0m \u001b[38;5;28;01mif\u001b[39;00m i \u001b[38;5;241m==\u001b[39m \u001b[38;5;241m5\u001b[39m:\n\u001b[1;32m     18\u001b[0m     \u001b[38;5;28;01mbreak\u001b[39;00m\n\u001b[0;32m---> 19\u001b[0m \u001b[43mvisualize_graph\u001b[49m\u001b[43m(\u001b[49m\u001b[43mdataset_pg_list\u001b[49m\u001b[43m)\u001b[49m\n",
      "Cell \u001b[0;32mIn[5], line 8\u001b[0m, in \u001b[0;36mvisualize_graph\u001b[0;34m(data)\u001b[0m\n\u001b[1;32m      6\u001b[0m \u001b[38;5;28;01mdef\u001b[39;00m \u001b[38;5;21mvisualize_graph\u001b[39m(data):\n\u001b[1;32m      7\u001b[0m     G \u001b[38;5;241m=\u001b[39m nx\u001b[38;5;241m.\u001b[39mGraph()\n\u001b[0;32m----> 8\u001b[0m     edge_index \u001b[38;5;241m=\u001b[39m \u001b[43mdata\u001b[49m\u001b[38;5;241;43m.\u001b[39;49m\u001b[43medge_index\u001b[49m\u001b[38;5;241m.\u001b[39mnumpy()\n\u001b[1;32m      9\u001b[0m     G\u001b[38;5;241m.\u001b[39madd_edges_from(edge_index\u001b[38;5;241m.\u001b[39mT)\n\u001b[1;32m     10\u001b[0m     pos \u001b[38;5;241m=\u001b[39m nx\u001b[38;5;241m.\u001b[39mspring_layout(G)\n",
      "\u001b[0;31mAttributeError\u001b[0m: 'list' object has no attribute 'edge_index'"
     ]
    }
   ],
   "source": [
    "import networkx as nx\n",
    "\n",
    "import matplotlib.pyplot as plt\n",
    "\n",
    "# Function to visualize a single graph\n",
    "def visualize_graph(data):\n",
    "    G = nx.Graph()\n",
    "    edge_index = data.edge_index.numpy()\n",
    "    G.add_edges_from(edge_index.T)\n",
    "    pos = nx.spring_layout(G)\n",
    "    nx.draw(G, pos, with_labels=True, node_color='skyblue', edge_color='gray', node_size=500, font_size=10)\n",
    "    plt.show()\n",
    "\n",
    "# Visualize the first 5 graphs in the dataset\n",
    "for i, data in enumerate(dataset_pg_list):\n",
    "    if i == 5:\n",
    "        break\n",
    "    visualize_graph(dataset_pg_list)"
   ]
  }
 ],
 "metadata": {
  "kernelspec": {
   "display_name": ".venv",
   "language": "python",
   "name": "python3"
  },
  "language_info": {
   "codemirror_mode": {
    "name": "ipython",
    "version": 3
   },
   "file_extension": ".py",
   "mimetype": "text/x-python",
   "name": "python",
   "nbconvert_exporter": "python",
   "pygments_lexer": "ipython3",
   "version": "3.10.12"
  }
 },
 "nbformat": 4,
 "nbformat_minor": 2
}
